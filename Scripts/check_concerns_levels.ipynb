{
 "cells": [
  {
   "cell_type": "code",
   "execution_count": 1,
   "id": "1937e378",
   "metadata": {},
   "outputs": [],
   "source": [
    "import pandas as pd\n",
    "import numpy as np\n",
    "import seaborn as sns\n",
    "import matplotlib.pyplot as plt"
   ]
  },
  {
   "cell_type": "code",
   "execution_count": 39,
   "id": "473c6eec",
   "metadata": {},
   "outputs": [],
   "source": [
    "concerns = pd.read_csv(r'..\\vis_presentacion\\neo4j_query_table_data_2025-7-2.csv')\n",
    "concerns.columns = ['ChemicalName', 'ChemCommunity', 'hazard_score', 'Cancer', \n",
    "                    'Allergies & Immunotoxicity','Developmental and Reproductive Toxicity', 'Use Restrictions']\n",
    "concerns.head()\n",
    "concerns.ChemCommunity = concerns.ChemCommunity.astype('category')\n",
    "concerns['Cancer'] = concerns['Cancer'].astype('category')\n",
    "concerns['Allergies & Immunotoxicity'] = concerns['Allergies & Immunotoxicity'].astype('category')\n",
    "concerns['Developmental and Reproductive Toxicity'] = concerns['Developmental and Reproductive Toxicity'].astype('category')\n",
    "concerns['Use Restrictions'] = concerns['Use Restrictions'].astype('category')"
   ]
  },
  {
   "cell_type": "code",
   "execution_count": 40,
   "id": "54adca5c",
   "metadata": {},
   "outputs": [
    {
     "data": {
      "text/html": [
       "<div>\n",
       "<style scoped>\n",
       "    .dataframe tbody tr th:only-of-type {\n",
       "        vertical-align: middle;\n",
       "    }\n",
       "\n",
       "    .dataframe tbody tr th {\n",
       "        vertical-align: top;\n",
       "    }\n",
       "\n",
       "    .dataframe thead th {\n",
       "        text-align: right;\n",
       "    }\n",
       "</style>\n",
       "<table border=\"1\" class=\"dataframe\">\n",
       "  <thead>\n",
       "    <tr style=\"text-align: right;\">\n",
       "      <th></th>\n",
       "      <th>ChemicalName</th>\n",
       "      <th>ChemCommunity</th>\n",
       "      <th>hazard_score</th>\n",
       "      <th>Cancer</th>\n",
       "      <th>Allergies &amp; Immunotoxicity</th>\n",
       "      <th>Developmental and Reproductive Toxicity</th>\n",
       "      <th>Use Restrictions</th>\n",
       "    </tr>\n",
       "  </thead>\n",
       "  <tbody>\n",
       "    <tr>\n",
       "      <th>0</th>\n",
       "      <td>titanium dioxide</td>\n",
       "      <td>100</td>\n",
       "      <td>1.0</td>\n",
       "      <td>MODERATE</td>\n",
       "      <td>LOW</td>\n",
       "      <td>LOW</td>\n",
       "      <td>LOW</td>\n",
       "    </tr>\n",
       "    <tr>\n",
       "      <th>1</th>\n",
       "      <td>coal tar</td>\n",
       "      <td>30</td>\n",
       "      <td>10.0</td>\n",
       "      <td>HIGH</td>\n",
       "      <td>MODERATE</td>\n",
       "      <td>LOW_MODERATE</td>\n",
       "      <td>HIGH</td>\n",
       "    </tr>\n",
       "    <tr>\n",
       "      <th>2</th>\n",
       "      <td>estragole</td>\n",
       "      <td>47</td>\n",
       "      <td>4.0</td>\n",
       "      <td>MODERATE</td>\n",
       "      <td>MODERATE</td>\n",
       "      <td>LOW</td>\n",
       "      <td>LOW</td>\n",
       "    </tr>\n",
       "    <tr>\n",
       "      <th>3</th>\n",
       "      <td>cocamide dea</td>\n",
       "      <td>30</td>\n",
       "      <td>8.0</td>\n",
       "      <td>MODERATE</td>\n",
       "      <td>MODERATE</td>\n",
       "      <td>LOW</td>\n",
       "      <td>HIGH</td>\n",
       "    </tr>\n",
       "    <tr>\n",
       "      <th>4</th>\n",
       "      <td>toluene</td>\n",
       "      <td>40</td>\n",
       "      <td>9.0</td>\n",
       "      <td>LOW</td>\n",
       "      <td>LOW</td>\n",
       "      <td>MODERATE</td>\n",
       "      <td>HIGH</td>\n",
       "    </tr>\n",
       "    <tr>\n",
       "      <th>...</th>\n",
       "      <td>...</td>\n",
       "      <td>...</td>\n",
       "      <td>...</td>\n",
       "      <td>...</td>\n",
       "      <td>...</td>\n",
       "      <td>...</td>\n",
       "      <td>...</td>\n",
       "    </tr>\n",
       "    <tr>\n",
       "      <th>79</th>\n",
       "      <td>benzophenone-2</td>\n",
       "      <td>40</td>\n",
       "      <td>4.0</td>\n",
       "      <td>LOW</td>\n",
       "      <td>MODERATE</td>\n",
       "      <td>LOW</td>\n",
       "      <td>LOW</td>\n",
       "    </tr>\n",
       "    <tr>\n",
       "      <th>80</th>\n",
       "      <td>vinyl acetate</td>\n",
       "      <td>20</td>\n",
       "      <td>6.0</td>\n",
       "      <td>LOW_MODERATE</td>\n",
       "      <td>LOW</td>\n",
       "      <td>LOW</td>\n",
       "      <td>HIGH</td>\n",
       "    </tr>\n",
       "    <tr>\n",
       "      <th>81</th>\n",
       "      <td>trichloroacetic acid</td>\n",
       "      <td>20</td>\n",
       "      <td>6.0</td>\n",
       "      <td>LOW_MODERATE</td>\n",
       "      <td>LOW</td>\n",
       "      <td>LOW</td>\n",
       "      <td>HIGH</td>\n",
       "    </tr>\n",
       "    <tr>\n",
       "      <th>84</th>\n",
       "      <td>ethanol</td>\n",
       "      <td>40</td>\n",
       "      <td>1.0</td>\n",
       "      <td>LOW</td>\n",
       "      <td>LOW</td>\n",
       "      <td>LOW</td>\n",
       "      <td>LOW</td>\n",
       "    </tr>\n",
       "    <tr>\n",
       "      <th>85</th>\n",
       "      <td>bisphenol a</td>\n",
       "      <td>20</td>\n",
       "      <td>7.0</td>\n",
       "      <td>LOW</td>\n",
       "      <td>MODERATE</td>\n",
       "      <td>MODERATE</td>\n",
       "      <td>HIGH</td>\n",
       "    </tr>\n",
       "  </tbody>\n",
       "</table>\n",
       "<p>76 rows × 7 columns</p>\n",
       "</div>"
      ],
      "text/plain": [
       "            ChemicalName ChemCommunity  hazard_score        Cancer  \\\n",
       "0       titanium dioxide           100           1.0      MODERATE   \n",
       "1               coal tar            30          10.0          HIGH   \n",
       "2              estragole            47           4.0      MODERATE   \n",
       "3           cocamide dea            30           8.0      MODERATE   \n",
       "4                toluene            40           9.0           LOW   \n",
       "..                   ...           ...           ...           ...   \n",
       "79        benzophenone-2            40           4.0           LOW   \n",
       "80         vinyl acetate            20           6.0  LOW_MODERATE   \n",
       "81  trichloroacetic acid            20           6.0  LOW_MODERATE   \n",
       "84               ethanol            40           1.0           LOW   \n",
       "85           bisphenol a            20           7.0           LOW   \n",
       "\n",
       "   Allergies & Immunotoxicity Developmental and Reproductive Toxicity  \\\n",
       "0                         LOW                                     LOW   \n",
       "1                    MODERATE                            LOW_MODERATE   \n",
       "2                    MODERATE                                     LOW   \n",
       "3                    MODERATE                                     LOW   \n",
       "4                         LOW                                MODERATE   \n",
       "..                        ...                                     ...   \n",
       "79                   MODERATE                                     LOW   \n",
       "80                        LOW                                     LOW   \n",
       "81                        LOW                                     LOW   \n",
       "84                        LOW                                     LOW   \n",
       "85                   MODERATE                                MODERATE   \n",
       "\n",
       "   Use Restrictions  \n",
       "0               LOW  \n",
       "1              HIGH  \n",
       "2               LOW  \n",
       "3              HIGH  \n",
       "4              HIGH  \n",
       "..              ...  \n",
       "79              LOW  \n",
       "80             HIGH  \n",
       "81             HIGH  \n",
       "84              LOW  \n",
       "85             HIGH  \n",
       "\n",
       "[76 rows x 7 columns]"
      ]
     },
     "execution_count": 40,
     "metadata": {},
     "output_type": "execute_result"
    }
   ],
   "source": [
    "concerns.dropna(inplace=True)\n",
    "concerns"
   ]
  },
  {
   "cell_type": "code",
   "execution_count": 41,
   "id": "531b707f",
   "metadata": {},
   "outputs": [
    {
     "data": {
      "text/html": [
       "<div>\n",
       "<style scoped>\n",
       "    .dataframe tbody tr th:only-of-type {\n",
       "        vertical-align: middle;\n",
       "    }\n",
       "\n",
       "    .dataframe tbody tr th {\n",
       "        vertical-align: top;\n",
       "    }\n",
       "\n",
       "    .dataframe thead th {\n",
       "        text-align: right;\n",
       "    }\n",
       "</style>\n",
       "<table border=\"1\" class=\"dataframe\">\n",
       "  <thead>\n",
       "    <tr style=\"text-align: right;\">\n",
       "      <th></th>\n",
       "      <th>ChemCommunity</th>\n",
       "      <th>Concern</th>\n",
       "      <th>Score</th>\n",
       "    </tr>\n",
       "  </thead>\n",
       "  <tbody>\n",
       "    <tr>\n",
       "      <th>0</th>\n",
       "      <td>100</td>\n",
       "      <td>Cancer</td>\n",
       "      <td>MODERATE</td>\n",
       "    </tr>\n",
       "    <tr>\n",
       "      <th>1</th>\n",
       "      <td>30</td>\n",
       "      <td>Cancer</td>\n",
       "      <td>HIGH</td>\n",
       "    </tr>\n",
       "    <tr>\n",
       "      <th>2</th>\n",
       "      <td>47</td>\n",
       "      <td>Cancer</td>\n",
       "      <td>MODERATE</td>\n",
       "    </tr>\n",
       "    <tr>\n",
       "      <th>3</th>\n",
       "      <td>30</td>\n",
       "      <td>Cancer</td>\n",
       "      <td>MODERATE</td>\n",
       "    </tr>\n",
       "    <tr>\n",
       "      <th>4</th>\n",
       "      <td>40</td>\n",
       "      <td>Cancer</td>\n",
       "      <td>LOW</td>\n",
       "    </tr>\n",
       "    <tr>\n",
       "      <th>...</th>\n",
       "      <td>...</td>\n",
       "      <td>...</td>\n",
       "      <td>...</td>\n",
       "    </tr>\n",
       "    <tr>\n",
       "      <th>299</th>\n",
       "      <td>40</td>\n",
       "      <td>Use Restrictions</td>\n",
       "      <td>LOW</td>\n",
       "    </tr>\n",
       "    <tr>\n",
       "      <th>300</th>\n",
       "      <td>20</td>\n",
       "      <td>Use Restrictions</td>\n",
       "      <td>HIGH</td>\n",
       "    </tr>\n",
       "    <tr>\n",
       "      <th>301</th>\n",
       "      <td>20</td>\n",
       "      <td>Use Restrictions</td>\n",
       "      <td>HIGH</td>\n",
       "    </tr>\n",
       "    <tr>\n",
       "      <th>302</th>\n",
       "      <td>40</td>\n",
       "      <td>Use Restrictions</td>\n",
       "      <td>LOW</td>\n",
       "    </tr>\n",
       "    <tr>\n",
       "      <th>303</th>\n",
       "      <td>20</td>\n",
       "      <td>Use Restrictions</td>\n",
       "      <td>HIGH</td>\n",
       "    </tr>\n",
       "  </tbody>\n",
       "</table>\n",
       "<p>304 rows × 3 columns</p>\n",
       "</div>"
      ],
      "text/plain": [
       "    ChemCommunity           Concern     Score\n",
       "0             100            Cancer  MODERATE\n",
       "1              30            Cancer      HIGH\n",
       "2              47            Cancer  MODERATE\n",
       "3              30            Cancer  MODERATE\n",
       "4              40            Cancer       LOW\n",
       "..            ...               ...       ...\n",
       "299            40  Use Restrictions       LOW\n",
       "300            20  Use Restrictions      HIGH\n",
       "301            20  Use Restrictions      HIGH\n",
       "302            40  Use Restrictions       LOW\n",
       "303            20  Use Restrictions      HIGH\n",
       "\n",
       "[304 rows x 3 columns]"
      ]
     },
     "execution_count": 41,
     "metadata": {},
     "output_type": "execute_result"
    }
   ],
   "source": [
    "df_melted = concerns.melt(id_vars='ChemCommunity', \n",
    "                          value_vars=[\"Cancer\", \"Allergies & Immunotoxicity\", \n",
    "                                      \"Developmental and Reproductive Toxicity\",\n",
    "                                      \"Use Restrictions\"],\n",
    "                          var_name='Concern', value_name='Score')\n",
    "df_melted"
   ]
  },
  {
   "cell_type": "code",
   "execution_count": 42,
   "id": "0e96c251",
   "metadata": {},
   "outputs": [],
   "source": [
    "df_melted.ChemCommunity = df_melted.ChemCommunity.astype('object')\n",
    "df_melted.Score = df_melted.Score.astype(str)"
   ]
  },
  {
   "cell_type": "code",
   "execution_count": 48,
   "id": "0f6bba8c",
   "metadata": {},
   "outputs": [],
   "source": [
    "df_melted1 = df_melted[(df_melted['ChemCommunity']==100)|(df_melted['ChemCommunity']==20)|(df_melted['ChemCommunity']==30)|(df_melted['ChemCommunity']==40)].copy()\n",
    "df_melted2 = df_melted[(df_melted['ChemCommunity']==44)|(df_melted['ChemCommunity']==47)|(df_melted['ChemCommunity']==59)].copy()"
   ]
  },
  {
   "cell_type": "code",
   "execution_count": 54,
   "id": "7f6c4e3f",
   "metadata": {},
   "outputs": [
    {
     "data": {
      "text/plain": [
       "<Figure size 1500x800 with 0 Axes>"
      ]
     },
     "metadata": {},
     "output_type": "display_data"
    },
    {
     "data": {
      "image/png": "[encoded data removed]",
      "text/plain": [
       "<Figure size 2338.75x500 with 4 Axes>"
      ]
     },
     "metadata": {},
     "output_type": "display_data"
    }
   ],
   "source": [
    "plt.figure(figsize=(15, 8))\n",
    "ax = sns.catplot(data=df_melted1, x='Score', hue='Concern', col='ChemCommunity', kind='count', legend_out=True, legend='full')\n",
    "sns.move_legend(ax, \"lower center\", bbox_to_anchor=(.4, -0.1), ncol=4, title='Preocupaciones de Salud', frameon=False)"
   ]
  },
  {
   "cell_type": "code",
   "execution_count": 50,
   "id": "a4c44a6f",
   "metadata": {},
   "outputs": [
    {
     "data": {
      "text/plain": [
       "<Figure size 1500x800 with 0 Axes>"
      ]
     },
     "metadata": {},
     "output_type": "display_data"
    },
    {
     "data": {
      "image/png": "[encoded data removed]",
      "text/plain": [
       "<Figure size 1838.75x500 with 3 Axes>"
      ]
     },
     "metadata": {},
     "output_type": "display_data"
    }
   ],
   "source": [
    "plt.figure(figsize=(15, 8))\n",
    "ax = sns.catplot(data=df_melted2, x='Score', hue='Concern', col='ChemCommunity', kind='count', legend_out=True, legend='full')\n",
    "sns.move_legend(ax, \"lower center\", bbox_to_anchor=(.4, -0.1), ncol=4, title='Preocupaciones de Salud', frameon=False)"
   ]
  },
  {
   "cell_type": "code",
   "execution_count": null,
   "id": "9a937c4c",
   "metadata": {},
   "outputs": [
    {
     "data": {
      "text/plain": [
       "array(['acrylamide', 'formaldehyde', 'ethylene glycol', 'trade secret',\n",
       "       'methanol', '1,4-dioxane', 'dichloroacetic acid', 'ethylene oxide',\n",
       "       'lead', 'dichloromethane', 'benzene', 'benzyl chloride',\n",
       "       'dimethylnitrosamine', 'propylene oxide', 'methyl chloride',\n",
       "       'candium', 'mercury'], dtype=object)"
      ]
     },
     "execution_count": 59,
     "metadata": {},
     "output_type": "execute_result"
    }
   ],
   "source": [
    "# Comunidad pegrilosa\n",
    "concerns[concerns['ChemCommunity']==44].ChemicalName.unique()"
   ]
  }
 ],
 "metadata": {
  "kernelspec": {
   "display_name": "breast_cancer",
   "language": "python",
   "name": "python3"
  },
  "language_info": {
   "codemirror_mode": {
    "name": "ipython",
    "version": 3
   },
   "file_extension": ".py",
   "mimetype": "text/x-python",
   "name": "python",
   "nbconvert_exporter": "python",
   "pygments_lexer": "ipython3",
   "version": "3.13.3"
  }
 },
 "nbformat": 4,
 "nbformat_minor": 5
}
